{
 "cells": [
  {
   "cell_type": "code",
   "execution_count": 3,
   "id": "7df6991e-84d3-4581-94e3-587443e75b8f",
   "metadata": {},
   "outputs": [
    {
     "data": {
      "text/plain": [
       "'<html>\\n <body>\\n  <h1>\\n   500 Internal Server Error\\n  </h1>\\n  An internal server error occurred.\\n </body>\\n</html>\\n'"
      ]
     },
     "execution_count": 3,
     "metadata": {},
     "output_type": "execute_result"
    }
   ],
   "source": [
    "import pandas as pd\n",
    "import requests\n",
    "import bs4\n",
    "from bs4 import BeautifulSoup as bs\n",
    "\n",
    "link = \"https://www.flipkart.com/poco-m6-pro-5g-forest-green-128-gb/p/itm151f47ed48eee\"\n",
    "page = requests.get(link)\n",
    "soup = bs(page.content,\"html.parser\")\n",
    "soup.prettify()\n",
    "\n",
    "name = soup.find('div',class_=\"_4rR01T\")\n",
    "name\n",
    "name.text"
   ]
  }
 ],
 "metadata": {
  "kernelspec": {
   "display_name": "Python 3 (ipykernel)",
   "language": "python",
   "name": "python3"
  },
  "language_info": {
   "codemirror_mode": {
    "name": "ipython",
    "version": 3
   },
   "file_extension": ".py",
   "mimetype": "text/x-python",
   "name": "python",
   "nbconvert_exporter": "python",
   "pygments_lexer": "ipython3",
   "version": "3.11.7"
  }
 },
 "nbformat": 4,
 "nbformat_minor": 5
}
