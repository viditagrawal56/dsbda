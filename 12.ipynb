{
 "cells": [
  {
   "cell_type": "code",
   "execution_count": null,
   "id": "2998e22e-b572-4bbe-9792-0e0c17016006",
   "metadata": {},
   "outputs": [],
   "source": [
    "import pandas as pd\n",
    "import numpy as np\n",
    "\n",
    "df=pd.read_csv(\"./records.csv\")\n",
    "df.head(20)\n",
    "print(df)\n",
    "df.info()\n",
    "\n",
    "#filling with missing values\n",
    "df_filled=df.fillna(df.mean())\n",
    "df_filled.to_csv('filled_dataset.csv', index=False)\n",
    "\n",
    "update_df=df\n",
    "update_df['Salary']=update_df['Salary'].fillna(update_df['Salary'].mean())\n",
    "print(update_df)\n",
    "\n",
    "#imputation with additional Column\n",
    "update_df=df\n",
    "update_df['Salary_imputed']=update_df['Salary'].fillna(update_df['Salary'].mean())\n",
    "print(update_df.head(50))"
   ]
  }
 ],
 "metadata": {
  "kernelspec": {
   "display_name": "Python 3 (ipykernel)",
   "language": "python",
   "name": "python3"
  },
  "language_info": {
   "codemirror_mode": {
    "name": "ipython",
    "version": 3
   },
   "file_extension": ".py",
   "mimetype": "text/x-python",
   "name": "python",
   "nbconvert_exporter": "python",
   "pygments_lexer": "ipython3",
   "version": "3.11.7"
  }
 },
 "nbformat": 4,
 "nbformat_minor": 5
}
