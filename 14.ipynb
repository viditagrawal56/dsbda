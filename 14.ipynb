{
 "cells": [
  {
   "cell_type": "code",
   "execution_count": 13,
   "id": "a4b9b517-e8b1-41a4-a0a3-ce38ccc0c141",
   "metadata": {},
   "outputs": [
    {
     "name": "stdout",
     "output_type": "stream",
     "text": [
      "Sentence: President was the best\n",
      "Polarity: 1.0\n",
      "Subjectivity: 0.3\n",
      "\n",
      "Sentence: The Food at Radison was very good\n",
      "Polarity: 0.9099999999999999\n",
      "Subjectivity: 0.7800000000000001\n",
      "\n"
     ]
    }
   ],
   "source": [
    "from textblob import TextBlob\n",
    "\n",
    "# Define the sentences\n",
    "sentences = [\n",
    "    \"President was the best\",\n",
    "    \"The Food at Radison was very good\"\n",
    "]\n",
    "\n",
    "# Perform sentiment analysis for each sentence\n",
    "for sentence in sentences:\n",
    "    # Create a TextBlob object\n",
    "    blob = TextBlob(sentence)\n",
    "    \n",
    "    # Calculate polarity and subjectivity\n",
    "    polarity = blob.sentiment.polarity\n",
    "    subjectivity = blob.sentiment.subjectivity\n",
    "    \n",
    "    # Print the results\n",
    "    print(f\"Sentence: {sentence}\")\n",
    "    print(f\"Polarity: {polarity}\")\n",
    "    print(f\"Subjectivity: {subjectivity}\")\n",
    "    print()\n"
   ]
  }
 ],
 "metadata": {
  "kernelspec": {
   "display_name": "Python 3 (ipykernel)",
   "language": "python",
   "name": "python3"
  },
  "language_info": {
   "codemirror_mode": {
    "name": "ipython",
    "version": 3
   },
   "file_extension": ".py",
   "mimetype": "text/x-python",
   "name": "python",
   "nbconvert_exporter": "python",
   "pygments_lexer": "ipython3",
   "version": "3.11.7"
  }
 },
 "nbformat": 4,
 "nbformat_minor": 5
}
