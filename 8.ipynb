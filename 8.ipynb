{
 "cells": [
  {
   "cell_type": "code",
   "execution_count": null,
   "id": "2654b537-310d-4fa9-a98d-42f8228e438a",
   "metadata": {},
   "outputs": [],
   "source": [
    "import pandas as pd\n",
    "import numpy as np\n",
    "import seaborn as sns\n",
    "import matplotlib.pyplot as plt\n",
    "from sklearn.linear_model import LinearRegression\n",
    "from sklearn.model_selection import train_test_split\n",
    "\n",
    "data=pd.read_csv(\"./house.csv\")\n",
    "print(data.columns)\n",
    "print(data.head(10))\n",
    "print(data.describe())\n",
    "print(data.shape)\n",
    "print(data.isnull().sum())\n",
    "\n",
    "\n",
    "sns.relplot(x='median_house_value',y='median_income',hue='total_rooms',data=data)\n",
    "plt.show()\n",
    "\n",
    "train=data.drop(['median_house_value'],axis=1)\n",
    "test=data['median_house_value']\n",
    "x_train,x_test,y_train,y_test=train_test_split(train,test,test_size=0.3,random_state=42)\n",
    "\n",
    "regr=LinearRegression()\n",
    "regr.fit(x_train,y_train)\n",
    "pred=regr.predict(x_test)\n",
    "print(pred)\n",
    "print(regr.score(x_test,y_test))"
   ]
  }
 ],
 "metadata": {
  "kernelspec": {
   "display_name": "Python 3 (ipykernel)",
   "language": "python",
   "name": "python3"
  },
  "language_info": {
   "codemirror_mode": {
    "name": "ipython",
    "version": 3
   },
   "file_extension": ".py",
   "mimetype": "text/x-python",
   "name": "python",
   "nbconvert_exporter": "python",
   "pygments_lexer": "ipython3",
   "version": "3.11.7"
  }
 },
 "nbformat": 4,
 "nbformat_minor": 5
}
