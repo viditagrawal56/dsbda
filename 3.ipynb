{
 "cells": [
  {
   "cell_type": "code",
   "execution_count": null,
   "id": "3c980c1f-c9f0-4ea1-a1b7-304c69b979a5",
   "metadata": {},
   "outputs": [],
   "source": [
    "#STOP WORDS\n",
    "import nltk\n",
    "nltk.download('stopwords')\n",
    "from nltk.corpus import stopwords\n",
    "stop_words = stopwords.words('english')\n",
    "\n",
    "#STEMMING\n",
    "from nltk.stem import PorterStemmer\n",
    "from nltk.tokenize import word_tokenize\n",
    "nltk.download('punkt')\n",
    "\n",
    "\n",
    "stemmer = PorterStemmer()\n",
    "str1 = \"There are so many players in ground\"\n",
    "str1 = word_tokenize(str1)  # Corrected this line\n",
    "for word in str1:\n",
    "    print(stemmer.stem(word))\n",
    "\n",
    "#LEMMATIZATION\n",
    "nltk.download('wordnet')\n",
    "from nltk.stem import WordNetLemmatizer\n",
    "from nltk.tokenize import word_tokenize\n",
    "lemmatizer = WordNetLemmatizer()\n",
    "\n",
    "str2 = \"Playing and Singing both with Two girls and fuck mice\"\n",
    "str2 = nltk.word_tokenize(str2)\n",
    "for word in str2:\n",
    "    print(lemmatizer.lemmatize(word))"
   ]
  }
 ],
 "metadata": {
  "kernelspec": {
   "display_name": "Python 3 (ipykernel)",
   "language": "python",
   "name": "python3"
  },
  "language_info": {
   "codemirror_mode": {
    "name": "ipython",
    "version": 3
   },
   "file_extension": ".py",
   "mimetype": "text/x-python",
   "name": "python",
   "nbconvert_exporter": "python",
   "pygments_lexer": "ipython3",
   "version": "3.11.7"
  }
 },
 "nbformat": 4,
 "nbformat_minor": 5
}
