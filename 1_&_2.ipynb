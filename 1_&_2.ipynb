{
  "cells": [
    {
      "cell_type": "code",
      "execution_count": null,
      "metadata": {
        "trusted": true
      },
      "outputs": [],
      "source": [
        "import pandas as pd\n",
        "data = pd.read_csv(\"./dataset_Facebook.csv\" ,sep=\";\")\n",
        "data\n",
        "data.describe()\n",
        "\n",
        "# MERGING\n",
        "df1 = data[[\"Type\", \"Category\"]].loc[0:15]\n",
        "df2 = data[[\"Type\", \"Category\"]].loc[16:30]\n",
        "df3 = data[[\"Type\", \"Category\"]].loc[31:60]\n",
        "merged = pd.concat([df1,df2,df3])\n",
        "merged\n",
        "\n",
        "data1 = {\"Roll_no\":[10,20,30,40,50],\"Age\":[23,43,45,32,12],\"Name\":['Sham','dham','gandu','priya','Ramu']}\n",
        "block = pd.DataFrame(data1)\n",
        "block\n",
        "data2 = {\"ID\":[1,2,3,4,5],\"Name\":['Sham','dham','gandu','priya','Ramu']}\n",
        "block2 = pd.DataFrame(data2)\n",
        "block2\n",
        "data_merged = block.merge(block2)\n",
        "data_merged\n",
        "\n",
        "\n",
        "# SORTING\n",
        "sorted_values = merged.sort_values(\"Category\")\n",
        "sorted_values\n",
        "\n",
        "# TRANSPOSING\n",
        "data.transpose()\n",
        "data\n",
        "\n",
        "#SHAPING\n",
        "data.shape\n",
        "\n",
        "#RESHAPING\n",
        "pivot_table = pd.pivot_table(data,index=[\"Type\",\"Category\"], values=\"comment\")\n",
        "print()"
      ]
    }
  ],
  "metadata": {
    "kernelspec": {
      "display_name": "Python (Pyodide)",
      "language": "python",
      "name": "python"
    },
    "language_info": {
      "codemirror_mode": {
        "name": "python",
        "version": 3
      },
      "file_extension": ".py",
      "mimetype": "text/x-python",
      "name": "python",
      "nbconvert_exporter": "python",
      "pygments_lexer": "ipython3",
      "version": "3.8"
    }
  },
  "nbformat": 4,
  "nbformat_minor": 4
}
