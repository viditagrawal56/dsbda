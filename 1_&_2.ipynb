{
  "metadata": {
    "kernelspec": {
      "name": "python",
      "display_name": "Python (Pyodide)",
      "language": "python"
    },
    "language_info": {
      "codemirror_mode": {
        "name": "python",
        "version": 3
      },
      "file_extension": ".py",
      "mimetype": "text/x-python",
      "name": "python",
      "nbconvert_exporter": "python",
      "pygments_lexer": "ipython3",
      "version": "3.8"
    }
  },
  "nbformat_minor": 4,
  "nbformat": 4,
  "cells": [
    {
      "cell_type": "code",
      "source": "import pandas as pd\ndata = pd.read_csv(\"./dataset_Facebook.csv\" ,sep=\";\")\ndata\ndata.describe()\n\n# MERGING\ndf1 = data[[\"Type\", \"Category\"]].loc[0:15]\ndf2 = data[[\"Type\", \"Category\"]].loc[16:30]\ndf3 = data[[\"Type\", \"Category\"]].loc[31:60]\nmerged = pd.concat([df1,df2,df3])\nmerged\n\n# SORTING\nsorted_values = merged.sort_values(\"Category\")\nsorted_values\n\n# TRANSPOSING\ndata.transpose()\ndata\n\n#SHAPING\ndata.shape\n\n#RESHAPING\npivot_table = pd.pivot_table(data,index=[\"Type\",\"Category\"], values=\"comment\")\nprint()",
      "metadata": {
        "trusted": true
      },
      "outputs": [],
      "execution_count": null
    }
  ]
}